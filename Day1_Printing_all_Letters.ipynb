{
 "cells": [
  {
   "cell_type": "markdown",
   "metadata": {},
   "source": [
    "# Printing all the Letters"
   ]
  },
  {
   "cell_type": "markdown",
   "metadata": {},
   "source": [
    "Letter A"
   ]
  },
  {
   "cell_type": "code",
   "execution_count": 4,
   "metadata": {},
   "outputs": [
    {
     "name": "stdout",
     "output_type": "stream",
     "text": [
      "          **\n",
      "         *  *\n",
      "        *    *\n",
      "       *      *\n",
      "      *        *\n",
      "     ************\n",
      "    *            *\n",
      "   *              *\n",
      "  *                *\n",
      " *                  *\n"
     ]
    }
   ],
   "source": [
    "for i in range(10):\n",
    "    if i is not 5:\n",
    "        print((10-i)*\" \"+\"*\"+2*i*\" \"+\"*\")\n",
    "    else:\n",
    "        print(i*\" \"+\"************\")"
   ]
  },
  {
   "cell_type": "markdown",
   "metadata": {},
   "source": [
    "Letter B"
   ]
  },
  {
   "cell_type": "code",
   "execution_count": 5,
   "metadata": {},
   "outputs": [
    {
     "name": "stdout",
     "output_type": "stream",
     "text": [
      "******\n",
      "*     *\n",
      "*     *\n",
      "*     *\n",
      "*     *\n",
      "******\n",
      "*     *\n",
      "*     *\n",
      "*     *\n",
      "*     *\n",
      "******\n"
     ]
    }
   ],
   "source": [
    "for i in range(11):\n",
    "    if i is 0 or i is 5 or i is 10:\n",
    "        print(6*\"*\")\n",
    "    else:\n",
    "        print(\"*\"+5*\" \"+\"*\")"
   ]
  },
  {
   "cell_type": "markdown",
   "metadata": {},
   "source": [
    "Letter C\n"
   ]
  },
  {
   "cell_type": "code",
   "execution_count": 6,
   "metadata": {},
   "outputs": [
    {
     "name": "stdout",
     "output_type": "stream",
     "text": [
      "            *\n",
      "        *\n",
      "    *\n",
      "  *\n",
      "*\n",
      "*\n",
      "*\n",
      "  *\n",
      "    *\n",
      "        *\n",
      "            *\n"
     ]
    }
   ],
   "source": [
    "for i in range(11):\n",
    "    if i<5:\n",
    "        print((5-i)*(5-i)//2*\" \" +\"*\")\n",
    "    else:\n",
    "        print((i-5)*(i-5)//2*\" \"+\"*\")"
   ]
  },
  {
   "cell_type": "markdown",
   "metadata": {},
   "source": [
    "Letter D"
   ]
  },
  {
   "cell_type": "code",
   "execution_count": 7,
   "metadata": {},
   "outputs": [
    {
     "name": "stdout",
     "output_type": "stream",
     "text": [
      "***********\n",
      "*          *\n",
      "*          *\n",
      "*          *\n",
      "*          *\n",
      "*          *\n",
      "*          *\n",
      "*          *\n",
      "*          *\n",
      "*          *\n",
      "***********\n"
     ]
    }
   ],
   "source": [
    "for i in range(11):\n",
    "    if i is 0 or i is 10:\n",
    "        print(11*\"*\")\n",
    "    else:\n",
    "        print(\"*\"+10*\" \"+\"*\")"
   ]
  },
  {
   "cell_type": "markdown",
   "metadata": {},
   "source": [
    "Letter E"
   ]
  },
  {
   "cell_type": "code",
   "execution_count": 8,
   "metadata": {},
   "outputs": [
    {
     "name": "stdout",
     "output_type": "stream",
     "text": [
      "*********\n",
      "*\n",
      "*\n",
      "*\n",
      "*\n",
      "*********\n",
      "*\n",
      "*\n",
      "*\n",
      "*\n",
      "*********\n"
     ]
    }
   ],
   "source": [
    "for i in range(11):\n",
    "    if i is 0 or i is 5 or i is 10:\n",
    "        print(9*\"*\")\n",
    "    else:\n",
    "        print(\"*\")"
   ]
  },
  {
   "cell_type": "markdown",
   "metadata": {},
   "source": [
    "\n",
    "Letter F"
   ]
  },
  {
   "cell_type": "code",
   "execution_count": 9,
   "metadata": {},
   "outputs": [
    {
     "name": "stdout",
     "output_type": "stream",
     "text": [
      "*********\n",
      "*\n",
      "*\n",
      "*\n",
      "*\n",
      "*********\n",
      "*\n",
      "*\n",
      "*\n",
      "*\n",
      "*\n"
     ]
    }
   ],
   "source": [
    "for i in range(11):\n",
    "    if i is 0 or i is 5:\n",
    "        print(9*\"*\")\n",
    "    else:\n",
    "        print(\"*\")"
   ]
  },
  {
   "cell_type": "markdown",
   "metadata": {},
   "source": [
    "Letter G"
   ]
  },
  {
   "cell_type": "code",
   "execution_count": 10,
   "metadata": {},
   "outputs": [
    {
     "name": "stdout",
     "output_type": "stream",
     "text": [
      "********************\n",
      "*\n",
      "*\n",
      "*\n",
      "*\n",
      "*\n",
      "*          **********\n",
      "*          *        *\n",
      "*          *        *\n",
      "*          *        *\n",
      "*          *        *\n",
      "*          *        *\n",
      "************        *\n"
     ]
    }
   ],
   "source": [
    "for i in range(11):\n",
    "    if i is 0:\n",
    "        print(20*\"*\")\n",
    "    if i < 5:\n",
    "        print(\"*\")\n",
    "    if i is 5:\n",
    "        print(\"*\"+i*2*\" \"+2*i*\"*\")\n",
    "    if i>5:\n",
    "        print(\"*\"+10*\" \"+\"*\"+8*\" \"+\"*\")\n",
    "    if i ==10:\n",
    "        print(\"*\"+10*\"*\"+\"*\"+8*\" \"+\"*\")"
   ]
  },
  {
   "cell_type": "markdown",
   "metadata": {},
   "source": [
    "Letter H"
   ]
  },
  {
   "cell_type": "code",
   "execution_count": 11,
   "metadata": {},
   "outputs": [
    {
     "name": "stdout",
     "output_type": "stream",
     "text": [
      "*          *\n",
      "*          *\n",
      "*          *\n",
      "*          *\n",
      "*          *\n",
      "************\n",
      "*          *\n",
      "*          *\n",
      "*          *\n",
      "*          *\n",
      "*          *\n"
     ]
    }
   ],
   "source": [
    "for i in range(11):\n",
    "    if i is not 5:\n",
    "        print(\"*\"+10*\" \"+\"*\")\n",
    "    else:\n",
    "        print(12*\"*\")"
   ]
  },
  {
   "cell_type": "markdown",
   "metadata": {},
   "source": [
    "Letter I"
   ]
  },
  {
   "cell_type": "code",
   "execution_count": 12,
   "metadata": {},
   "outputs": [
    {
     "name": "stdout",
     "output_type": "stream",
     "text": [
      "************\n",
      "     *\n",
      "     *\n",
      "     *\n",
      "     *\n",
      "     *\n",
      "     *\n",
      "     *\n",
      "     *\n",
      "     *\n",
      "************\n"
     ]
    }
   ],
   "source": [
    "for i in range(11):\n",
    "    if i is 0 or i is 10:\n",
    "        print(12*\"*\")\n",
    "    else:\n",
    "        print(5*\" \"+\"*\")"
   ]
  },
  {
   "cell_type": "markdown",
   "metadata": {},
   "source": [
    "Letter J\n"
   ]
  },
  {
   "cell_type": "code",
   "execution_count": 13,
   "metadata": {},
   "outputs": [
    {
     "name": "stdout",
     "output_type": "stream",
     "text": [
      "************************\n",
      "           *\n",
      "           *\n",
      "           *\n",
      "           *\n",
      "*          *\n",
      "*          *\n",
      "*          *\n",
      "*          *\n",
      "*          *\n",
      "************\n"
     ]
    }
   ],
   "source": [
    "print(24*\"*\")\n",
    "for i in range(1,11):\n",
    "    if i <5:\n",
    "        print(11*\" \"+\"*\")\n",
    "    elif i <10:\n",
    "        print(\"*\"+10*\" \"+\"*\")\n",
    "    else:\n",
    "        print(12*\"*\")"
   ]
  },
  {
   "cell_type": "markdown",
   "metadata": {},
   "source": [
    "Letter K\n"
   ]
  },
  {
   "cell_type": "code",
   "execution_count": 14,
   "metadata": {},
   "outputs": [
    {
     "name": "stdout",
     "output_type": "stream",
     "text": [
      "*     *\n",
      "*    *\n",
      "*   *\n",
      "*  *\n",
      "* *\n",
      "**\n",
      "* *\n",
      "*  *\n",
      "*   *\n",
      "*    *\n",
      "*     *\n"
     ]
    }
   ],
   "source": [
    "for i in range(11):\n",
    "    if i<5:\n",
    "        print(\"*\"+(5-i)*\" \"+\"*\")\n",
    "    else:\n",
    "        print(\"*\"+(i-5)*\" \"+\"*\")"
   ]
  },
  {
   "cell_type": "markdown",
   "metadata": {},
   "source": [
    "Letter L"
   ]
  },
  {
   "cell_type": "code",
   "execution_count": 15,
   "metadata": {},
   "outputs": [
    {
     "name": "stdout",
     "output_type": "stream",
     "text": [
      "*\n",
      "*\n",
      "*\n",
      "*\n",
      "*\n",
      "*\n",
      "*\n",
      "*\n",
      "*\n",
      "*\n",
      "**********\n"
     ]
    }
   ],
   "source": [
    "for i in range(11):\n",
    "    if i is not 10:\n",
    "        print(\"*\")\n",
    "    else:\n",
    "        print(10*\"*\")"
   ]
  },
  {
   "cell_type": "markdown",
   "metadata": {},
   "source": [
    "Letter M"
   ]
  },
  {
   "cell_type": "code",
   "execution_count": 16,
   "metadata": {},
   "outputs": [
    {
     "name": "stdout",
     "output_type": "stream",
     "text": [
      "**                    **\n",
      "* *                  * *\n",
      "*  *                *  *\n",
      "*   *              *   *\n",
      "*    *            *    *\n",
      "*     *          *     *\n",
      "*      *        *      *\n",
      "*       *      *       *\n",
      "*        *    *        *\n",
      "*         *  *         *\n",
      "*          **          *\n"
     ]
    }
   ],
   "source": [
    "for i in range(11):\n",
    "    print(\"*\"+(i)*\" \"+\"*\"+2*(10-i)*\" \"+\"*\"+(i)*\" \"+\"*\")"
   ]
  },
  {
   "cell_type": "markdown",
   "metadata": {},
   "source": [
    "Letter N\n"
   ]
  },
  {
   "cell_type": "code",
   "execution_count": 17,
   "metadata": {},
   "outputs": [
    {
     "name": "stdout",
     "output_type": "stream",
     "text": [
      "**          *\n",
      "* *         *\n",
      "*  *        *\n",
      "*   *       *\n",
      "*    *      *\n",
      "*     *     *\n",
      "*      *    *\n",
      "*       *   *\n",
      "*        *  *\n",
      "*         * *\n",
      "*          **\n"
     ]
    }
   ],
   "source": [
    "for i in range(11):\n",
    "    print(\"*\"+(i)*\" \"+\"*\"+(10-i)*\" \"+\"*\")"
   ]
  },
  {
   "cell_type": "markdown",
   "metadata": {},
   "source": [
    "Letter O"
   ]
  },
  {
   "cell_type": "code",
   "execution_count": 18,
   "metadata": {},
   "outputs": [
    {
     "name": "stdout",
     "output_type": "stream",
     "text": [
      "      **\n",
      "    *    *\n",
      "  *        *\n",
      "*            *\n",
      "*            *\n",
      "*            *\n",
      "*            *\n",
      "*            *\n",
      "  *        *\n",
      "    *    *\n",
      "      **\n"
     ]
    }
   ],
   "source": [
    "for i in range(11):\n",
    "    if i<3:\n",
    "        print(2*(3-i)*\" \"+\"*\"+4*i*\" \"+\"*\")\n",
    "    elif i<7:\n",
    "        print(\"*\"+12*\" \"+\"*\")\n",
    "    else:\n",
    "        print(2*(i-7)*\" \"+\"*\"+2*(20-2*i)*\" \"+\"*\")"
   ]
  },
  {
   "cell_type": "markdown",
   "metadata": {},
   "source": [
    "Letter P"
   ]
  },
  {
   "cell_type": "code",
   "execution_count": 19,
   "metadata": {},
   "outputs": [
    {
     "name": "stdout",
     "output_type": "stream",
     "text": [
      "******\n",
      "*     *\n",
      "*     *\n",
      "*     *\n",
      "******\n",
      "*\n",
      "*\n",
      "*\n",
      "*\n",
      "*\n"
     ]
    }
   ],
   "source": [
    "print(6*\"*\")\n",
    "for i in range(1,11):\n",
    "    if i < 4:\n",
    "        print(\"*\"+5*\" \"+\"*\")\n",
    "    elif 4<i<10:\n",
    "        print(\"*\")\n",
    "    if i==4:\n",
    "        print(6*\"*\")\n"
   ]
  },
  {
   "cell_type": "markdown",
   "metadata": {},
   "source": [
    "Letter Q"
   ]
  },
  {
   "cell_type": "code",
   "execution_count": 46,
   "metadata": {},
   "outputs": [
    {
     "name": "stdout",
     "output_type": "stream",
     "text": [
      " *********\n",
      "*         *\n",
      "*         *\n",
      "*         *\n",
      "*         *\n",
      "*         *\n",
      "*         *\n",
      "*         *\n",
      " *********\n",
      "          *\n",
      "           *\n",
      "            *\n",
      "             *\n"
     ]
    }
   ],
   "source": [
    "for i in range(12):\n",
    "    if i is 0 or i is 8:\n",
    "        print(\" \"+9*\"*\")\n",
    "    else:\n",
    "        if i is 1 or i is 7:\n",
    "            print(\"*\"+9*\" \"+\"*\")\n",
    "        elif i<8:\n",
    "            print(\"*\"+9*\" \"+\"*\")\n",
    "    if i>=8:\n",
    "        print((i+2)*\" \"+\"*\")"
   ]
  },
  {
   "cell_type": "markdown",
   "metadata": {},
   "source": [
    "Letter R"
   ]
  },
  {
   "cell_type": "code",
   "execution_count": 47,
   "metadata": {},
   "outputs": [
    {
     "name": "stdout",
     "output_type": "stream",
     "text": [
      "******\n",
      "*     *\n",
      "*     *\n",
      "*     *\n",
      "*     *\n",
      "******\n",
      "* *\n",
      "*  *\n",
      "*   *\n",
      "*    *\n"
     ]
    }
   ],
   "source": [
    "print(6*\"*\")\n",
    "for i in range(1,11):\n",
    "    if i<5:\n",
    "        print(\"*\"+5*\" \"+\"*\")\n",
    "    if i==5:\n",
    "        print(6*\"*\")\n",
    "    if 5<i<10:\n",
    "        print(\"*\"+(i-5)*\" \"+\"*\")"
   ]
  },
  {
   "cell_type": "markdown",
   "metadata": {},
   "source": [
    "Letter S"
   ]
  },
  {
   "cell_type": "code",
   "execution_count": 48,
   "metadata": {},
   "outputs": [
    {
     "name": "stdout",
     "output_type": "stream",
     "text": [
      "**********\n",
      "*\n",
      "*\n",
      "*\n",
      "*\n",
      "**********\n",
      "         *\n",
      "         *\n",
      "         *\n",
      "         *\n",
      "**********\n"
     ]
    }
   ],
   "source": [
    "for i in range(11):\n",
    "    if i in [0,5,10]:\n",
    "        print(10*\"*\")\n",
    "    elif i<5:\n",
    "        print(\"*\")\n",
    "    elif i<10:\n",
    "        print(9*\" \"+\"*\")"
   ]
  },
  {
   "cell_type": "markdown",
   "metadata": {},
   "source": [
    "Letter T"
   ]
  },
  {
   "cell_type": "code",
   "execution_count": 49,
   "metadata": {},
   "outputs": [
    {
     "name": "stdout",
     "output_type": "stream",
     "text": [
      "***************\n",
      "      *\n",
      "      *\n",
      "      *\n",
      "      *\n",
      "      *\n",
      "      *\n",
      "      *\n",
      "      *\n",
      "      *\n",
      "      *\n",
      "      *\n"
     ]
    }
   ],
   "source": [
    "print(15*\"*\")\n",
    "for i in range(11):\n",
    "    print(6*\" \"+\"*\")"
   ]
  },
  {
   "cell_type": "markdown",
   "metadata": {},
   "source": [
    "Letter U"
   ]
  },
  {
   "cell_type": "code",
   "execution_count": 50,
   "metadata": {},
   "outputs": [
    {
     "name": "stdout",
     "output_type": "stream",
     "text": [
      "*          *\n",
      "*          *\n",
      "*          *\n",
      "*          *\n",
      "*          *\n",
      "*          *\n",
      "*          *\n",
      "*          *\n",
      "*          *\n",
      "*          *\n",
      "************\n"
     ]
    }
   ],
   "source": [
    "for i in range(11):\n",
    "    if i<10:\n",
    "        print(\"*\"+10*\" \"+\"*\")\n",
    "    else:\n",
    "        print(12*\"*\")"
   ]
  },
  {
   "cell_type": "markdown",
   "metadata": {},
   "source": [
    "Letter V"
   ]
  },
  {
   "cell_type": "code",
   "execution_count": 53,
   "metadata": {},
   "outputs": [
    {
     "name": "stdout",
     "output_type": "stream",
     "text": [
      "*                    *\n",
      " *                  *\n",
      "  *                *\n",
      "   *              *\n",
      "    *            *\n",
      "     *          *\n",
      "      *        *\n",
      "       *      *\n",
      "        *    *\n",
      "         *  *\n",
      "          **\n"
     ]
    }
   ],
   "source": [
    "for i in range(11):\n",
    "    print(i*\" \"+\"*\"+2*(10-i)*\" \"+\"*\")"
   ]
  },
  {
   "cell_type": "markdown",
   "metadata": {},
   "source": [
    "Letter W\n"
   ]
  },
  {
   "cell_type": "code",
   "execution_count": 56,
   "metadata": {},
   "outputs": [
    {
     "name": "stdout",
     "output_type": "stream",
     "text": [
      "*                    **                    *\n",
      " *                  *  *                  *\n",
      "  *                *    *                *\n",
      "   *              *      *              *\n",
      "    *            *        *            *\n",
      "     *          *          *          *\n",
      "      *        *            *        *\n",
      "       *      *              *      *\n",
      "        *    *                *    *\n",
      "         *  *                  *  *\n",
      "          **                    **\n"
     ]
    }
   ],
   "source": [
    "for i in range(11):\n",
    "    print(i*\" \"+\"*\"+2*(10-i)*\" \"+\"*\"+2*i*\" \"+\"*\"+2*(10-i)*\" \"+\"*\")"
   ]
  },
  {
   "cell_type": "markdown",
   "metadata": {},
   "source": [
    "Letter X"
   ]
  },
  {
   "cell_type": "code",
   "execution_count": 58,
   "metadata": {},
   "outputs": [
    {
     "name": "stdout",
     "output_type": "stream",
     "text": [
      "*          *\n",
      " *        *\n",
      "  *      *\n",
      "   *    *\n",
      "    *  *\n",
      "     **\n",
      "    *  *\n",
      "   *    *\n",
      "  *      *\n",
      " *        *\n",
      "*          *\n"
     ]
    }
   ],
   "source": [
    "for i in range(11):\n",
    "    if i<5:\n",
    "        print(i*\" \"+\"*\"+2*(5-i)*\" \"+\"*\")\n",
    "    else:\n",
    "        print((10-i)*\" \"+\"*\"+2*(i-5)*\" \"+\"*\")"
   ]
  },
  {
   "cell_type": "markdown",
   "metadata": {},
   "source": [
    "Letter Y"
   ]
  },
  {
   "cell_type": "code",
   "execution_count": 61,
   "metadata": {},
   "outputs": [
    {
     "name": "stdout",
     "output_type": "stream",
     "text": [
      "*          *\n",
      " *        *\n",
      "  *      *\n",
      "   *    *\n",
      "    *  *\n",
      "     *\n",
      "    *\n",
      "   *\n",
      "  *\n",
      " *\n",
      "*\n"
     ]
    }
   ],
   "source": [
    "for i in range(11):\n",
    "    if i<5:\n",
    "        print(i*\" \"+\"*\"+2*(5-i)*\" \"+\"*\")\n",
    "    else:\n",
    "        print((10-i)*\" \"+\"*\")"
   ]
  },
  {
   "cell_type": "markdown",
   "metadata": {},
   "source": [
    "Letter Z"
   ]
  },
  {
   "cell_type": "code",
   "execution_count": 62,
   "metadata": {},
   "outputs": [
    {
     "name": "stdout",
     "output_type": "stream",
     "text": [
      "***********\n",
      "         *\n",
      "        *\n",
      "       *\n",
      "      *\n",
      "     *\n",
      "    *\n",
      "   *\n",
      "  *\n",
      " *\n",
      "***********\n"
     ]
    }
   ],
   "source": [
    "for i in range(11):\n",
    "    if i is 0 or i is 10:\n",
    "        print(11*\"*\")\n",
    "    else:\n",
    "        print((10-i)*\" \"+\"*\")"
   ]
  }
 ],
 "metadata": {
  "kernelspec": {
   "display_name": "Python 3",
   "language": "python",
   "name": "python3"
  },
  "language_info": {
   "codemirror_mode": {
    "name": "ipython",
    "version": 3
   },
   "file_extension": ".py",
   "mimetype": "text/x-python",
   "name": "python",
   "nbconvert_exporter": "python",
   "pygments_lexer": "ipython3",
   "version": "3.7.6"
  }
 },
 "nbformat": 4,
 "nbformat_minor": 4
}
